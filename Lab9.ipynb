{
 "cells": [
  {
   "cell_type": "code",
   "execution_count": 1,
   "metadata": {
    "collapsed": true
   },
   "outputs": [],
   "source": [
    "import scipy.stats as ss\n",
    "import scipy as sp\n",
    "import numpy as np\n",
    "import pandas as pd\n",
    "\n",
    "data = pd.read_csv('C:\\\\Users\\\\egorc\\\\AppData\\\\Local\\\\conda\\\\conda\\\\envs\\\\orange3\\\\Lib\\\\site-packages\\\\Orange\\\\datasets\\\\wine.tab', delimiter='\\t') #загружаємо дані (свій варіант)\n",
    "X = data.iloc[2:,1:]\n",
    "y = data.iloc[2:,0]"
   ]
  },
  {
   "cell_type": "code",
   "execution_count": 2,
   "metadata": {},
   "outputs": [
    {
     "name": "stdout",
     "output_type": "stream",
     "text": [
      "Значення xі: 45.34635724094319\n",
      "Значення xі власноручно: 45.34635724094319\n",
      "Значення квантилю: 18.337652896756474\n",
      "\n",
      "Гіпотеза Н1: розбіжність між розподілами істотна\n",
      " Для колонки: Magnesium\n"
     ]
    }
   ],
   "source": [
    "start = 0\n",
    "n_samples = 20 #вказуємо скільки потрібно даних\n",
    "column = 4 #які дані з таблиці необхідно взяти\n",
    "expected = X.iloc[start:start+n_samples, column].astype(float).values\n",
    "observed = X.iloc[start+n_samples:start+n_samples*2, column].astype(float).values\n",
    "chi, probability_fit = ss.chisquare(observed, expected)\n",
    "print(f'Значення xі: {chi}') #виведемо chi\n",
    "# обрахуємо власноручно\n",
    "chi_man = np.sum((observed-expected)**2/expected)\n",
    "print(f'Значення xі власноручно: {chi_man}')\n",
    "conf_interval = 0.5 #процент довіри a\n",
    "df = n_samples - 1 # ступені свободи\n",
    "chi_star = ss.chi2.ppf(conf_interval, df) # обрахування квантилю\n",
    "print(f'Значення квантилю: {chi_star}\\n')\n",
    "if chi >= chi_star:\n",
    "    print('Гіпотеза Н1: розбіжність між розподілами істотна\\n',\n",
    "         f'Для колонки: {X.columns[column]}')\n",
    "else:\n",
    "    print('Гіпотеза Н0: два розподіла практично не різняться між собою\\n',\n",
    "         f'Для колонки: {X.columns[column]}')"
   ]
  },
  {
   "cell_type": "code",
   "execution_count": 3,
   "metadata": {},
   "outputs": [
    {
     "data": {
      "text/plain": [
       "2      127\n",
       "3      100\n",
       "4      101\n",
       "5      113\n",
       "6      118\n",
       "7      112\n",
       "8       96\n",
       "9      121\n",
       "10      97\n",
       "11      98\n",
       "12     105\n",
       "13      95\n",
       "14      89\n",
       "15      91\n",
       "16     102\n",
       "17     112\n",
       "18     120\n",
       "19     115\n",
       "20     108\n",
       "21     116\n",
       "22     126\n",
       "23     102\n",
       "24     101\n",
       "25      95\n",
       "26      96\n",
       "27     124\n",
       "28      93\n",
       "29      94\n",
       "30     107\n",
       "31      96\n",
       "      ... \n",
       "150     92\n",
       "151    113\n",
       "152    123\n",
       "153    112\n",
       "154    116\n",
       "155     98\n",
       "156    103\n",
       "157     93\n",
       "158     89\n",
       "159     97\n",
       "160     98\n",
       "161     89\n",
       "162     88\n",
       "163    107\n",
       "164    106\n",
       "165    106\n",
       "166     90\n",
       "167     88\n",
       "168    111\n",
       "169     88\n",
       "170    105\n",
       "171    112\n",
       "172     96\n",
       "173     86\n",
       "174     91\n",
       "175     95\n",
       "176    102\n",
       "177    120\n",
       "178    120\n",
       "179     96\n",
       "Name: Magnesium, Length: 178, dtype: object"
      ]
     },
     "execution_count": 3,
     "metadata": {},
     "output_type": "execute_result"
    }
   ],
   "source": [
    "X.iloc[:,4]"
   ]
  },
  {
   "cell_type": "code",
   "execution_count": null,
   "metadata": {
    "collapsed": true
   },
   "outputs": [],
   "source": []
  }
 ],
 "metadata": {
  "kernelspec": {
   "display_name": "Python 3",
   "language": "python",
   "name": "python3"
  },
  "language_info": {
   "codemirror_mode": {
    "name": "ipython",
    "version": 3
   },
   "file_extension": ".py",
   "mimetype": "text/x-python",
   "name": "python",
   "nbconvert_exporter": "python",
   "pygments_lexer": "ipython3",
   "version": "3.6.1"
  }
 },
 "nbformat": 4,
 "nbformat_minor": 2
}
