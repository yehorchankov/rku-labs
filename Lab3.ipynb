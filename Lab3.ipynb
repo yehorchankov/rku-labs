{
 "cells": [
  {
   "cell_type": "markdown",
   "metadata": {},
   "source": [
    "# Ієрархічні методи\n",
    "## Одинарне зв'язування"
   ]
  },
  {
   "cell_type": "code",
   "execution_count": 1,
   "metadata": {},
   "outputs": [
    {
     "data": {
      "text/html": [
       "<div>\n",
       "<style>\n",
       "    .dataframe thead tr:only-child th {\n",
       "        text-align: right;\n",
       "    }\n",
       "\n",
       "    .dataframe thead th {\n",
       "        text-align: left;\n",
       "    }\n",
       "\n",
       "    .dataframe tbody tr th {\n",
       "        vertical-align: top;\n",
       "    }\n",
       "</style>\n",
       "<table border=\"1\" class=\"dataframe\">\n",
       "  <thead>\n",
       "    <tr style=\"text-align: right;\">\n",
       "      <th></th>\n",
       "      <th>X</th>\n",
       "      <th>Y</th>\n",
       "    </tr>\n",
       "  </thead>\n",
       "  <tbody>\n",
       "    <tr>\n",
       "      <th>A</th>\n",
       "      <td>2</td>\n",
       "      <td>4</td>\n",
       "    </tr>\n",
       "    <tr>\n",
       "      <th>B</th>\n",
       "      <td>7</td>\n",
       "      <td>3</td>\n",
       "    </tr>\n",
       "    <tr>\n",
       "      <th>C</th>\n",
       "      <td>3</td>\n",
       "      <td>5</td>\n",
       "    </tr>\n",
       "    <tr>\n",
       "      <th>D</th>\n",
       "      <td>5</td>\n",
       "      <td>3</td>\n",
       "    </tr>\n",
       "    <tr>\n",
       "      <th>E</th>\n",
       "      <td>7</td>\n",
       "      <td>4</td>\n",
       "    </tr>\n",
       "    <tr>\n",
       "      <th>F</th>\n",
       "      <td>6</td>\n",
       "      <td>8</td>\n",
       "    </tr>\n",
       "    <tr>\n",
       "      <th>G</th>\n",
       "      <td>6</td>\n",
       "      <td>5</td>\n",
       "    </tr>\n",
       "    <tr>\n",
       "      <th>H</th>\n",
       "      <td>8</td>\n",
       "      <td>4</td>\n",
       "    </tr>\n",
       "    <tr>\n",
       "      <th>I</th>\n",
       "      <td>2</td>\n",
       "      <td>5</td>\n",
       "    </tr>\n",
       "    <tr>\n",
       "      <th>J</th>\n",
       "      <td>3</td>\n",
       "      <td>7</td>\n",
       "    </tr>\n",
       "  </tbody>\n",
       "</table>\n",
       "</div>"
      ],
      "text/plain": [
       "   X  Y\n",
       "A  2  4\n",
       "B  7  3\n",
       "C  3  5\n",
       "D  5  3\n",
       "E  7  4\n",
       "F  6  8\n",
       "G  6  5\n",
       "H  8  4\n",
       "I  2  5\n",
       "J  3  7"
      ]
     },
     "execution_count": 1,
     "metadata": {},
     "output_type": "execute_result"
    }
   ],
   "source": [
    "import numpy as np\n",
    "import sklearn\n",
    "import matplotlib.pyplot as plt\n",
    "import pandas as pd\n",
    "from scipy.spatial.distance import pdist, squareform\n",
    "from scipy.cluster.hierarchy import linkage\n",
    "\n",
    "index = ['A','B','C','D','E','F','G','H','I','J']\n",
    "data = pd.DataFrame({\n",
    "    'X':[2,7,3,5,7,6,6,8,2,3],\n",
    "    'Y':[4,3,5,3,4,8,5,4,5,7]\n",
    "    }, index=index)\n",
    "data"
   ]
  },
  {
   "cell_type": "markdown",
   "metadata": {},
   "source": [
    "### Distance matrix"
   ]
  },
  {
   "cell_type": "code",
   "execution_count": 2,
   "metadata": {},
   "outputs": [
    {
     "data": {
      "text/html": [
       "<div>\n",
       "<style>\n",
       "    .dataframe thead tr:only-child th {\n",
       "        text-align: right;\n",
       "    }\n",
       "\n",
       "    .dataframe thead th {\n",
       "        text-align: left;\n",
       "    }\n",
       "\n",
       "    .dataframe tbody tr th {\n",
       "        vertical-align: top;\n",
       "    }\n",
       "</style>\n",
       "<table border=\"1\" class=\"dataframe\">\n",
       "  <thead>\n",
       "    <tr style=\"text-align: right;\">\n",
       "      <th></th>\n",
       "      <th>A</th>\n",
       "      <th>B</th>\n",
       "      <th>C</th>\n",
       "      <th>D</th>\n",
       "      <th>E</th>\n",
       "      <th>F</th>\n",
       "      <th>G</th>\n",
       "      <th>H</th>\n",
       "      <th>I</th>\n",
       "      <th>J</th>\n",
       "    </tr>\n",
       "  </thead>\n",
       "  <tbody>\n",
       "    <tr>\n",
       "      <th>A</th>\n",
       "      <td>0.000000</td>\n",
       "      <td>5.099020</td>\n",
       "      <td>1.414214</td>\n",
       "      <td>3.162278</td>\n",
       "      <td>5.000000</td>\n",
       "      <td>5.656854</td>\n",
       "      <td>4.123106</td>\n",
       "      <td>6.000000</td>\n",
       "      <td>1.000000</td>\n",
       "      <td>3.162278</td>\n",
       "    </tr>\n",
       "    <tr>\n",
       "      <th>B</th>\n",
       "      <td>5.099020</td>\n",
       "      <td>0.000000</td>\n",
       "      <td>4.472136</td>\n",
       "      <td>2.000000</td>\n",
       "      <td>1.000000</td>\n",
       "      <td>5.099020</td>\n",
       "      <td>2.236068</td>\n",
       "      <td>1.414214</td>\n",
       "      <td>5.385165</td>\n",
       "      <td>5.656854</td>\n",
       "    </tr>\n",
       "    <tr>\n",
       "      <th>C</th>\n",
       "      <td>1.414214</td>\n",
       "      <td>4.472136</td>\n",
       "      <td>0.000000</td>\n",
       "      <td>2.828427</td>\n",
       "      <td>4.123106</td>\n",
       "      <td>4.242641</td>\n",
       "      <td>3.000000</td>\n",
       "      <td>5.099020</td>\n",
       "      <td>1.000000</td>\n",
       "      <td>2.000000</td>\n",
       "    </tr>\n",
       "    <tr>\n",
       "      <th>D</th>\n",
       "      <td>3.162278</td>\n",
       "      <td>2.000000</td>\n",
       "      <td>2.828427</td>\n",
       "      <td>0.000000</td>\n",
       "      <td>2.236068</td>\n",
       "      <td>5.099020</td>\n",
       "      <td>2.236068</td>\n",
       "      <td>3.162278</td>\n",
       "      <td>3.605551</td>\n",
       "      <td>4.472136</td>\n",
       "    </tr>\n",
       "    <tr>\n",
       "      <th>E</th>\n",
       "      <td>5.000000</td>\n",
       "      <td>1.000000</td>\n",
       "      <td>4.123106</td>\n",
       "      <td>2.236068</td>\n",
       "      <td>0.000000</td>\n",
       "      <td>4.123106</td>\n",
       "      <td>1.414214</td>\n",
       "      <td>1.000000</td>\n",
       "      <td>5.099020</td>\n",
       "      <td>5.000000</td>\n",
       "    </tr>\n",
       "    <tr>\n",
       "      <th>F</th>\n",
       "      <td>5.656854</td>\n",
       "      <td>5.099020</td>\n",
       "      <td>4.242641</td>\n",
       "      <td>5.099020</td>\n",
       "      <td>4.123106</td>\n",
       "      <td>0.000000</td>\n",
       "      <td>3.000000</td>\n",
       "      <td>4.472136</td>\n",
       "      <td>5.000000</td>\n",
       "      <td>3.162278</td>\n",
       "    </tr>\n",
       "    <tr>\n",
       "      <th>G</th>\n",
       "      <td>4.123106</td>\n",
       "      <td>2.236068</td>\n",
       "      <td>3.000000</td>\n",
       "      <td>2.236068</td>\n",
       "      <td>1.414214</td>\n",
       "      <td>3.000000</td>\n",
       "      <td>0.000000</td>\n",
       "      <td>2.236068</td>\n",
       "      <td>4.000000</td>\n",
       "      <td>3.605551</td>\n",
       "    </tr>\n",
       "    <tr>\n",
       "      <th>H</th>\n",
       "      <td>6.000000</td>\n",
       "      <td>1.414214</td>\n",
       "      <td>5.099020</td>\n",
       "      <td>3.162278</td>\n",
       "      <td>1.000000</td>\n",
       "      <td>4.472136</td>\n",
       "      <td>2.236068</td>\n",
       "      <td>0.000000</td>\n",
       "      <td>6.082763</td>\n",
       "      <td>5.830952</td>\n",
       "    </tr>\n",
       "    <tr>\n",
       "      <th>I</th>\n",
       "      <td>1.000000</td>\n",
       "      <td>5.385165</td>\n",
       "      <td>1.000000</td>\n",
       "      <td>3.605551</td>\n",
       "      <td>5.099020</td>\n",
       "      <td>5.000000</td>\n",
       "      <td>4.000000</td>\n",
       "      <td>6.082763</td>\n",
       "      <td>0.000000</td>\n",
       "      <td>2.236068</td>\n",
       "    </tr>\n",
       "    <tr>\n",
       "      <th>J</th>\n",
       "      <td>3.162278</td>\n",
       "      <td>5.656854</td>\n",
       "      <td>2.000000</td>\n",
       "      <td>4.472136</td>\n",
       "      <td>5.000000</td>\n",
       "      <td>3.162278</td>\n",
       "      <td>3.605551</td>\n",
       "      <td>5.830952</td>\n",
       "      <td>2.236068</td>\n",
       "      <td>0.000000</td>\n",
       "    </tr>\n",
       "  </tbody>\n",
       "</table>\n",
       "</div>"
      ],
      "text/plain": [
       "          A         B         C         D         E         F         G  \\\n",
       "A  0.000000  5.099020  1.414214  3.162278  5.000000  5.656854  4.123106   \n",
       "B  5.099020  0.000000  4.472136  2.000000  1.000000  5.099020  2.236068   \n",
       "C  1.414214  4.472136  0.000000  2.828427  4.123106  4.242641  3.000000   \n",
       "D  3.162278  2.000000  2.828427  0.000000  2.236068  5.099020  2.236068   \n",
       "E  5.000000  1.000000  4.123106  2.236068  0.000000  4.123106  1.414214   \n",
       "F  5.656854  5.099020  4.242641  5.099020  4.123106  0.000000  3.000000   \n",
       "G  4.123106  2.236068  3.000000  2.236068  1.414214  3.000000  0.000000   \n",
       "H  6.000000  1.414214  5.099020  3.162278  1.000000  4.472136  2.236068   \n",
       "I  1.000000  5.385165  1.000000  3.605551  5.099020  5.000000  4.000000   \n",
       "J  3.162278  5.656854  2.000000  4.472136  5.000000  3.162278  3.605551   \n",
       "\n",
       "          H         I         J  \n",
       "A  6.000000  1.000000  3.162278  \n",
       "B  1.414214  5.385165  5.656854  \n",
       "C  5.099020  1.000000  2.000000  \n",
       "D  3.162278  3.605551  4.472136  \n",
       "E  1.000000  5.099020  5.000000  \n",
       "F  4.472136  5.000000  3.162278  \n",
       "G  2.236068  4.000000  3.605551  \n",
       "H  0.000000  6.082763  5.830952  \n",
       "I  6.082763  0.000000  2.236068  \n",
       "J  5.830952  2.236068  0.000000  "
      ]
     },
     "execution_count": 2,
     "metadata": {},
     "output_type": "execute_result"
    }
   ],
   "source": [
    "data_dist = pd.DataFrame(squareform(\n",
    "        pdist(data, metric='euclidean')),\n",
    "        columns=index, index=index)\n",
    "data_dist"
   ]
  },
  {
   "cell_type": "code",
   "execution_count": 3,
   "metadata": {},
   "outputs": [
    {
     "data": {
      "text/html": [
       "<div>\n",
       "<style>\n",
       "    .dataframe thead tr:only-child th {\n",
       "        text-align: right;\n",
       "    }\n",
       "\n",
       "    .dataframe thead th {\n",
       "        text-align: left;\n",
       "    }\n",
       "\n",
       "    .dataframe tbody tr th {\n",
       "        vertical-align: top;\n",
       "    }\n",
       "</style>\n",
       "<table border=\"1\" class=\"dataframe\">\n",
       "  <thead>\n",
       "    <tr style=\"text-align: right;\">\n",
       "      <th></th>\n",
       "      <th>row label 1</th>\n",
       "      <th>row label 2</th>\n",
       "      <th>distance</th>\n",
       "      <th>number of items in cluster</th>\n",
       "    </tr>\n",
       "  </thead>\n",
       "  <tbody>\n",
       "    <tr>\n",
       "      <th>cluster 1</th>\n",
       "      <td>0.0</td>\n",
       "      <td>8.0</td>\n",
       "      <td>1.000000</td>\n",
       "      <td>2.0</td>\n",
       "    </tr>\n",
       "    <tr>\n",
       "      <th>cluster 2</th>\n",
       "      <td>2.0</td>\n",
       "      <td>10.0</td>\n",
       "      <td>1.000000</td>\n",
       "      <td>3.0</td>\n",
       "    </tr>\n",
       "    <tr>\n",
       "      <th>cluster 3</th>\n",
       "      <td>1.0</td>\n",
       "      <td>4.0</td>\n",
       "      <td>1.000000</td>\n",
       "      <td>2.0</td>\n",
       "    </tr>\n",
       "    <tr>\n",
       "      <th>cluster 4</th>\n",
       "      <td>7.0</td>\n",
       "      <td>12.0</td>\n",
       "      <td>1.000000</td>\n",
       "      <td>3.0</td>\n",
       "    </tr>\n",
       "    <tr>\n",
       "      <th>cluster 5</th>\n",
       "      <td>6.0</td>\n",
       "      <td>13.0</td>\n",
       "      <td>1.414214</td>\n",
       "      <td>4.0</td>\n",
       "    </tr>\n",
       "    <tr>\n",
       "      <th>cluster 6</th>\n",
       "      <td>9.0</td>\n",
       "      <td>11.0</td>\n",
       "      <td>2.000000</td>\n",
       "      <td>4.0</td>\n",
       "    </tr>\n",
       "    <tr>\n",
       "      <th>cluster 7</th>\n",
       "      <td>3.0</td>\n",
       "      <td>14.0</td>\n",
       "      <td>2.000000</td>\n",
       "      <td>5.0</td>\n",
       "    </tr>\n",
       "    <tr>\n",
       "      <th>cluster 8</th>\n",
       "      <td>15.0</td>\n",
       "      <td>16.0</td>\n",
       "      <td>2.828427</td>\n",
       "      <td>9.0</td>\n",
       "    </tr>\n",
       "    <tr>\n",
       "      <th>cluster 9</th>\n",
       "      <td>5.0</td>\n",
       "      <td>17.0</td>\n",
       "      <td>3.000000</td>\n",
       "      <td>10.0</td>\n",
       "    </tr>\n",
       "  </tbody>\n",
       "</table>\n",
       "</div>"
      ],
      "text/plain": [
       "           row label 1  row label 2  distance  number of items in cluster\n",
       "cluster 1          0.0          8.0  1.000000                         2.0\n",
       "cluster 2          2.0         10.0  1.000000                         3.0\n",
       "cluster 3          1.0          4.0  1.000000                         2.0\n",
       "cluster 4          7.0         12.0  1.000000                         3.0\n",
       "cluster 5          6.0         13.0  1.414214                         4.0\n",
       "cluster 6          9.0         11.0  2.000000                         4.0\n",
       "cluster 7          3.0         14.0  2.000000                         5.0\n",
       "cluster 8         15.0         16.0  2.828427                         9.0\n",
       "cluster 9          5.0         17.0  3.000000                        10.0"
      ]
     },
     "execution_count": 3,
     "metadata": {},
     "output_type": "execute_result"
    }
   ],
   "source": [
    "data_clust = linkage(data.values,\n",
    "                   method='single', # complete\n",
    "                   metric='euclidean')\n",
    "pd.DataFrame(data_clust,\n",
    "            columns = [\n",
    "                'row label 1',\n",
    "                'row label 2',\n",
    "                'distance',\n",
    "                'number of items in cluster'\n",
    "            ],\n",
    "            index = ['cluster %d' % (i+1) for i in\n",
    "                    range(data_dist.shape[0]-1)])"
   ]
  },
  {
   "cell_type": "markdown",
   "metadata": {},
   "source": [
    "### Dendrogram"
   ]
  },
  {
   "cell_type": "code",
   "execution_count": 4,
   "metadata": {},
   "outputs": [
    {
     "data": {
      "image/png": "[encoded data removed]",
      "text/plain": [
       "<matplotlib.figure.Figure at 0x1c60a434c50>"
      ]
     },
     "metadata": {},
     "output_type": "display_data"
    }
   ],
   "source": [
    "from scipy.cluster.hierarchy import dendrogram\n",
    "\n",
    "data_dendr = dendrogram(data_clust,\n",
    "                       labels=index)\n",
    "plt.tight_layout()\n",
    "plt.ylabel('Euclidean distance')\n",
    "plt.show()"
   ]
  },
  {
   "cell_type": "markdown",
   "metadata": {},
   "source": [
    "### Heatmap"
   ]
  },
  {
   "cell_type": "code",
   "execution_count": 5,
   "metadata": {},
   "outputs": [
    {
     "data": {
      "image/png": "[encoded data removed]",
      "text/plain": [
       "<matplotlib.figure.Figure at 0x1c60a79c278>"
      ]
     },
     "metadata": {},
     "output_type": "display_data"
    }
   ],
   "source": [
    "fig = plt.figure(figsize=(8, 8), facecolor='white')\n",
    "axd = fig.add_axes([0.09, 0.1, 0.2, 0.6])\n",
    "\n",
    "# note: for matplotlib < v1.5.1, please use orientation='right'\n",
    "row_dendr = dendrogram(data_clust, orientation='left')\n",
    "\n",
    "# reorder data with respect to clustering\n",
    "df_rowclust = data.iloc[row_dendr['leaves'][::-1]]\n",
    "\n",
    "axd.set_xticks([])\n",
    "axd.set_yticks([])\n",
    "\n",
    "# remove axes spines from dendrogram\n",
    "for i in axd.spines.values():\n",
    "        i.set_visible(False)\n",
    "\n",
    "# plot heatmap\n",
    "axm = fig.add_axes([-0.03, 0.1, 0.6, 0.6])  # x-pos, y-pos, width, height\n",
    "cax = axm.matshow(df_rowclust, interpolation='nearest', cmap='hot_r')\n",
    "fig.colorbar(cax)\n",
    "axm.set_yticks(np.arange(len(df_rowclust.index)))\n",
    "axm.set_xticklabels([''] + list(df_rowclust.columns))\n",
    "axm.set_yticklabels([] + list(df_rowclust.index))\n",
    "plt.show()"
   ]
  },
  {
   "cell_type": "markdown",
   "metadata": {},
   "source": [
    "### UPGMA"
   ]
  },
  {
   "cell_type": "code",
   "execution_count": 6,
   "metadata": {},
   "outputs": [
    {
     "data": {
      "image/png": "[encoded data removed]",
      "text/plain": [
       "<IPython.core.display.Image object>"
      ]
     },
     "execution_count": 6,
     "metadata": {},
     "output_type": "execute_result"
    }
   ],
   "source": [
    "from IPython.display import Image\n",
    "Image('lab3-1.png')"
   ]
  },
  {
   "cell_type": "code",
   "execution_count": 7,
   "metadata": {},
   "outputs": [
    {
     "data": {
      "image/png": "[encoded data removed]",
      "text/plain": [
       "<matplotlib.figure.Figure at 0x1c60a791518>"
      ]
     },
     "metadata": {},
     "output_type": "display_data"
    }
   ],
   "source": [
    "data_clust = linkage(data.values,\n",
    "                   method='average',\n",
    "                   metric='euclidean')\n",
    "data_dendr = dendrogram(data_clust,\n",
    "                       labels=index)\n",
    "plt.tight_layout()\n",
    "plt.ylabel('Euclidean distance')\n",
    "plt.show()"
   ]
  },
  {
   "cell_type": "markdown",
   "metadata": {},
   "source": [
    "### WPGMA"
   ]
  },
  {
   "cell_type": "code",
   "execution_count": 8,
   "metadata": {},
   "outputs": [
    {
     "data": {
      "image/png": "[encoded data removed]",
      "text/plain": [
       "<IPython.core.display.Image object>"
      ]
     },
     "execution_count": 8,
     "metadata": {},
     "output_type": "execute_result"
    }
   ],
   "source": [
    "Image('lab3-2.png')"
   ]
  },
  {
   "cell_type": "code",
   "execution_count": 9,
   "metadata": {},
   "outputs": [
    {
     "data": {
      "image/png": "[encoded data removed]",
      "text/plain": [
       "<matplotlib.figure.Figure at 0x1c60aafcbe0>"
      ]
     },
     "metadata": {},
     "output_type": "display_data"
    }
   ],
   "source": [
    "data_clust = linkage(data.values[:,1:],\n",
    "                   method='weighted',\n",
    "                   metric='euclidean')\n",
    "data_dendr = dendrogram(data_clust,\n",
    "                       labels=index)\n",
    "plt.tight_layout()\n",
    "plt.ylabel('Euclidean distance')\n",
    "plt.show()"
   ]
  },
  {
   "cell_type": "code",
   "execution_count": 10,
   "metadata": {},
   "outputs": [
    {
     "data": {
      "image/png": "[encoded data removed]",
      "text/plain": [
       "<matplotlib.figure.Figure at 0x1c60a75d4e0>"
      ]
     },
     "metadata": {},
     "output_type": "display_data"
    }
   ],
   "source": [
    "countries = pd.read_csv('countries.csv', header=0)\n",
    "countries.loc[156, 'Alcohol consumption'] = 7.9\n",
    "countries.index = countries.iloc[:,0]\n",
    "countries = countries.iloc[:178,1:]\n",
    "\n",
    "count_clust = linkage(countries.values,\n",
    "                   method='weighted',\n",
    "                   metric='euclidean')\n",
    "count_dendr = dendrogram(count_clust,\n",
    "                       labels=range(178))\n",
    "plt.tight_layout()\n",
    "plt.ylabel('Euclidean distance')\n",
    "plt.show()"
   ]
  },
  {
   "cell_type": "markdown",
   "metadata": {},
   "source": [
    "## Gravitational methods\n",
    "### k-means"
   ]
  },
  {
   "cell_type": "code",
   "execution_count": 11,
   "metadata": {},
   "outputs": [
    {
     "data": {
      "image/png": "[encoded data removed]",
      "text/plain": [
       "<matplotlib.figure.Figure at 0x1c60af2b860>"
      ]
     },
     "metadata": {},
     "output_type": "display_data"
    }
   ],
   "source": [
    "from sklearn.cluster import KMeans\n",
    "\n",
    "X = data.values\n",
    "km = KMeans(n_clusters=3,\n",
    "           init='random',\n",
    "           n_init=10,\n",
    "           max_iter=300,\n",
    "           tol=1e-04,\n",
    "           random_state=0)\n",
    "y_km = km.fit_predict(X)\n",
    "\n",
    "plt.scatter(X[y_km==0,0],\n",
    "           X[y_km==0,1],\n",
    "           s=50,\n",
    "           c='lightgreen',\n",
    "           marker='s',\n",
    "           label='cluster 1')\n",
    "plt.scatter(X[y_km==1,0],\n",
    "           X[y_km==1,1],\n",
    "           s=50,\n",
    "           c='orange',\n",
    "           marker='o',\n",
    "           label='cluster 2')\n",
    "plt.scatter(X[y_km==2,0],\n",
    "           X[y_km==2,1],\n",
    "           s=50,\n",
    "           c='lightblue',\n",
    "           marker='v',\n",
    "           label='cluster 3')\n",
    "plt.scatter(km.cluster_centers_[:,0],\n",
    "           km.cluster_centers_[:,1],\n",
    "           s=50,\n",
    "           marker='*',\n",
    "           c='red',\n",
    "           label='centroids')\n",
    "plt.legend()\n",
    "plt.grid()\n",
    "plt.show()"
   ]
  },
  {
   "cell_type": "markdown",
   "metadata": {},
   "source": [
    "### k-medoids"
   ]
  },
  {
   "cell_type": "code",
   "execution_count": 12,
   "metadata": {},
   "outputs": [
    {
     "data": {
      "image/png": "[encoded data removed]",
      "text/plain": [
       "<matplotlib.figure.Figure at 0x1c60ad9d8d0>"
      ]
     },
     "metadata": {},
     "output_type": "display_data"
    }
   ],
   "source": [
    "from pyclust import KMedoids\n",
    "\n",
    "k_med = KMedoids(n_clusters=3, distance='euclidean')\n",
    "yk_med = k_med.fit_predict(X)\n",
    "\n",
    "plt.scatter(X[yk_med==0,0],\n",
    "           X[yk_med==0,1],\n",
    "           s=50,\n",
    "           c='lightgreen',\n",
    "           marker='s',\n",
    "           label='cluster 1')\n",
    "plt.scatter(X[yk_med==1,0],\n",
    "           X[yk_med==1,1],\n",
    "           s=50,\n",
    "           c='orange',\n",
    "           marker='o',\n",
    "           label='cluster 2')\n",
    "plt.scatter(X[yk_med==2,0],\n",
    "           X[yk_med==2,1],\n",
    "           s=50,\n",
    "           c='lightblue',\n",
    "           marker='v',\n",
    "           label='cluster 3')\n",
    "plt.scatter(km.cluster_centers_[:,0],\n",
    "           km.cluster_centers_[:,1],\n",
    "           s=50,\n",
    "           marker='*',\n",
    "           c='red',\n",
    "           label='centroids')\n",
    "plt.legend()\n",
    "plt.grid()\n",
    "plt.show()"
   ]
  },
  {
   "cell_type": "code",
   "execution_count": 13,
   "metadata": {},
   "outputs": [
    {
     "data": {
      "image/png": "[encoded data removed]",
      "text/plain": [
       "<matplotlib.figure.Figure at 0x1c60ae04ef0>"
      ]
     },
     "metadata": {},
     "output_type": "display_data"
    }
   ],
   "source": [
    "X = countries.values\n",
    "km = KMeans(n_clusters=6,\n",
    "           init='random',\n",
    "           n_init=20,\n",
    "           max_iter=300,\n",
    "           tol=1e-05,\n",
    "           random_state=6)\n",
    "y_km = km.fit_predict(X)\n",
    "\n",
    "plt.scatter(X[y_km==0,0],\n",
    "           X[y_km==0,1],\n",
    "           s=50,\n",
    "           c='lightgreen',\n",
    "           marker='s',\n",
    "           label='cluster 1')\n",
    "plt.scatter(X[y_km==1,0],\n",
    "           X[y_km==1,1],\n",
    "           s=50,\n",
    "           c='orange',\n",
    "           marker='o',\n",
    "           label='cluster 2')\n",
    "plt.scatter(X[y_km==2,0],\n",
    "           X[y_km==2,1],\n",
    "           s=50,\n",
    "           c='lightblue',\n",
    "           marker='v',\n",
    "           label='cluster 3')\n",
    "plt.scatter(X[y_km==3,0],\n",
    "           X[y_km==3,1],\n",
    "           s=50,\n",
    "           c='pink',\n",
    "           marker='v',\n",
    "           label='cluster 4')\n",
    "plt.scatter(X[y_km==4,0],\n",
    "           X[y_km==4,1],\n",
    "           s=50,\n",
    "           c='brown',\n",
    "           marker='v',\n",
    "           label='cluster 5')\n",
    "plt.scatter(X[y_km==5,0],\n",
    "           X[y_km==5,1],\n",
    "           s=50,\n",
    "           c='yellow',\n",
    "           marker='v',\n",
    "           label='cluster 6')\n",
    "plt.scatter(km.cluster_centers_[:,0],\n",
    "           km.cluster_centers_[:,1],\n",
    "           s=50,\n",
    "           marker='*',\n",
    "           c='red',\n",
    "           label='centroids')\n",
    "plt.legend()\n",
    "plt.grid()\n",
    "plt.show()"
   ]
  },
  {
   "cell_type": "markdown",
   "metadata": {},
   "source": [
    "## DBSCAN"
   ]
  },
  {
   "cell_type": "code",
   "execution_count": 14,
   "metadata": {},
   "outputs": [
    {
     "data": {
      "image/png": "[encoded data removed]",
      "text/plain": [
       "<matplotlib.figure.Figure at 0x1c60ae13860>"
      ]
     },
     "metadata": {},
     "output_type": "display_data"
    }
   ],
   "source": [
    "from sklearn.cluster import DBSCAN\n",
    "\n",
    "X = data.values\n",
    "db = DBSCAN(eps=1.5, min_samples=1, metric='euclidean')\n",
    "y_db = db.fit_predict(X)\n",
    "\n",
    "plt.scatter(X[y_db == 0, 0], X[y_db == 0, 1],\n",
    "            c='lightblue', marker='o', s=40,\n",
    "            label='cluster 1')\n",
    "plt.scatter(X[y_db == 1, 0], X[y_db == 1, 1],\n",
    "            c='red', marker='s', s=40,\n",
    "            label='cluster 2')\n",
    "plt.scatter(X[y_db == 2, 0], X[y_db == 2, 1],\n",
    "            c='lightgreen', marker='^', s=40,\n",
    "            label='cluster 3')\n",
    "plt.scatter(X[y_db == 3, 0], X[y_db == 3, 1],\n",
    "            c='pink', marker='*', s=40,\n",
    "            label='cluster 4')\n",
    "\n",
    "plt.legend()\n",
    "plt.tight_layout()\n",
    "plt.show()"
   ]
  },
  {
   "cell_type": "code",
   "execution_count": 18,
   "metadata": {},
   "outputs": [
    {
     "data": {
      "image/png": "[encoded data removed]",
      "text/plain": [
       "<matplotlib.figure.Figure at 0x1c60af15e80>"
      ]
     },
     "metadata": {},
     "output_type": "display_data"
    }
   ],
   "source": [
    "X = countries.values\n",
    "\n",
    "db = DBSCAN(eps=6, min_samples=3, metric='euclidean')\n",
    "y_db = db.fit_predict(X)\n",
    "\n",
    "plt.scatter(X[y_db == 0, 0], X[y_db == 0, 1],\n",
    "            c='lightblue', marker='o', s=40,\n",
    "            label='cluster 1')\n",
    "plt.scatter(X[y_db == 1, 0], X[y_db == 1, 1],\n",
    "            c='red', marker='s', s=40,\n",
    "            label='cluster 2')\n",
    "plt.scatter(X[y_db == 2, 0], X[y_db == 2, 1],\n",
    "            c='lightgreen', marker='^', s=40,\n",
    "            label='cluster 3')\n",
    "plt.scatter(X[y_db == 3, 0], X[y_db == 3, 1],\n",
    "            c='pink', marker='*', s=40,\n",
    "            label='cluster 4')\n",
    "plt.scatter(X[y_db == 4, 0], X[y_db == 4, 1],\n",
    "            c='brown', marker='.', s=40,\n",
    "            label='cluster 5')\n",
    "plt.scatter(X[y_db == 5, 0], X[y_db == 5, 1],\n",
    "            c='yellow', marker='s', s=40,\n",
    "            label='cluster 6')\n",
    "plt.scatter(X[y_db == 6, 0], X[y_db == 6, 1],\n",
    "            c='black', marker='*', s=40,\n",
    "            label='cluster 7')\n",
    "plt.scatter(X[y_db == 7, 0], X[y_db == 7, 1],\n",
    "            c='gray', marker='o', s=40,\n",
    "            label='cluster 8')\n",
    "\n",
    "plt.legend()\n",
    "plt.tight_layout()\n",
    "plt.show()"
   ]
  },
  {
   "cell_type": "code",
   "execution_count": null,
   "metadata": {
    "collapsed": true
   },
   "outputs": [],
   "source": []
  }
 ],
 "metadata": {
  "kernelspec": {
   "display_name": "Python 3",
   "language": "python",
   "name": "python3"
  },
  "language_info": {
   "codemirror_mode": {
    "name": "ipython",
    "version": 3
   },
   "file_extension": ".py",
   "mimetype": "text/x-python",
   "name": "python",
   "nbconvert_exporter": "python",
   "pygments_lexer": "ipython3",
   "version": "3.6.1"
  }
 },
 "nbformat": 4,
 "nbformat_minor": 2
}
