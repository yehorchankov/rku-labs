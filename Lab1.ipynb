{
 "cells": [
  {
   "cell_type": "code",
   "execution_count": 1,
   "metadata": {},
   "outputs": [
    {
     "data": {
      "image/png": "[encoded data removed]",
      "text/plain": [
       "<matplotlib.figure.Figure at 0x1cb6b44cc88>"
      ]
     },
     "metadata": {},
     "output_type": "display_data"
    }
   ],
   "source": [
    "from sklearn.datasets import load_iris\n",
    "import matplotlib.pyplot as plt\n",
    "\n",
    "\n",
    "X = load_iris()\n",
    "X = X.data[:,:2]\n",
    "plt.scatter(X[:,0],\n",
    "           X[:,1],\n",
    "            c='blue',\n",
    "           marker='o',\n",
    "           s=30)\n",
    "plt.grid()\n",
    "plt.show()"
   ]
  },
  {
   "cell_type": "code",
   "execution_count": 2,
   "metadata": {
    "collapsed": true
   },
   "outputs": [],
   "source": [
    "def plot_decisions(X, dec, n_clust=0, leg=True):\n",
    "    assert n_clust >= 0\n",
    "    if n_clust == 0:\n",
    "        n_clust = len(np.unique(dec))\n",
    "    for i in range(1,n_clust+1):\n",
    "        plt.scatter(X[dec==i,0],\n",
    "                   X[dec==i,1],\n",
    "                   s=40,\n",
    "                   c=rand.rand(1,4)[0],\n",
    "                   marker='^',\n",
    "                   label=('cluster ' + str(i)))\n",
    "    if leg:\n",
    "        plt.legend()\n",
    "    plt.grid()\n",
    "    plt.show()"
   ]
  },
  {
   "cell_type": "code",
   "execution_count": 3,
   "metadata": {
    "collapsed": true
   },
   "outputs": [],
   "source": [
    "import numpy as np\n",
    "\n",
    "\n",
    "def euclidean_dist_sq(point1, point2):\n",
    "    assert len(point1) == len(point2)\n",
    "    result = 0\n",
    "    for i in range(len(point1)):\n",
    "        result = result + (point1[i]-point2[i])**2\n",
    "    return result\n",
    "\n",
    "def minkovski_dist(point1, point2, p=2):\n",
    "    assert len(point1) == len(point2)\n",
    "    result = 0\n",
    "    for i in range(len(point1)):\n",
    "        result = result + (point1[i]-point2[i])**p\n",
    "    return result**(1/p)\n",
    "\n",
    "def taxicab_dist(point1, point2):\n",
    "    assert len(point1) == len(point2)\n",
    "    result = 0\n",
    "    for i in range(len(point1)):\n",
    "        result = result + abs(point1[i]-point2[i])\n",
    "    return result\n",
    "\n",
    "def chebyshev_dist(point1, point2):\n",
    "    assert len(point1) == len(point2)\n",
    "    result = 0\n",
    "    for i in range(len(point1)):\n",
    "        val = abs(point1[i]-point2[i])\n",
    "        if val > result:\n",
    "            result = val \n",
    "    return result\n",
    "\n",
    "def calculate_dist(data, how='euclid'):\n",
    "    n = len(data)\n",
    "    result = np.zeros((n,n),dtype=np.float32)\n",
    "    for i in range(n):\n",
    "        for j in range(n):\n",
    "            if how == 'euclid':\n",
    "                result[i,j] = euclidean_dist_sq(data[i],data[j])\n",
    "            elif how == 'minkowski':\n",
    "                result[i,j] = minkovski_dist(data[i],data[j], p=2)\n",
    "            elif how == 'taxicab':\n",
    "                result[i,j] = taxicab_dist(data[i],data[j])\n",
    "            elif how == 'chebyshev':\n",
    "                result[i,j] = chebyshev_dist(data[i],data[j])\n",
    "    return result"
   ]
  },
  {
   "cell_type": "markdown",
   "metadata": {},
   "source": [
    "# Crab"
   ]
  },
  {
   "cell_type": "code",
   "execution_count": 4,
   "metadata": {
    "collapsed": true
   },
   "outputs": [],
   "source": [
    "class Graph():\n",
    "    def __init__(self, vertices):\n",
    "        self.V = vertices\n",
    "        # Create distance matrix for graph\n",
    "        self.graph = [[0 for column in range(vertices)] \n",
    "                      for row in range(vertices)]\n",
    "        self.maxint = 999999999\n",
    "    \n",
    "    # Create adjacency matrix for MST\n",
    "    def createMST_matrix(self, parent):\n",
    "        result = np.zeros((len(parent),len(parent)),dtype=np.float)\n",
    "        for i in range(len(parent)):\n",
    "            result[i,parent[i]] = self.graph[i,parent[i]]\n",
    "            result[parent[i],i] = self.graph[i,parent[i]]\n",
    "        return result\n",
    " \n",
    "    # A utility function to find the vertex with minimum distance value, from\n",
    "    # the set of vertices not yet included in shortest path tree\n",
    "    def minKey(self, key, mstSet):\n",
    "        # Initilaize min value\n",
    "        mn = self.maxint\n",
    "        for v in range(self.V):\n",
    "            if key[v] < mn and mstSet[v] == False:\n",
    "                mn = key[v]\n",
    "                min_index = v\n",
    "        return min_index\n",
    " \n",
    "    # Function to construct MST for a graph using adjacency matrix representation\n",
    "    def primMST(self):\n",
    "        #Key values used to pick minimum weight edge in cut\n",
    "        key = [self.maxint] * self.V\n",
    "        parent = [None] * self.V\n",
    "        key[0] = 0   # Make key 0 so that this vertex is picked as first vertex\n",
    "        mstSet = [False] * self.V\n",
    "        parent[0] = -1  # Mark first node as the root\n",
    " \n",
    "        for cout in range(self.V):\n",
    "            # Pick the minimum distance vertex from the set of vertices not\n",
    "            # yet processed. u is always equal to src in first iteration\n",
    "            u = self.minKey(key, mstSet)\n",
    "            # Put the minimum distance vertex in the shortest path tree\n",
    "            mstSet[u] = True\n",
    "            # Update dist value of the adjacent vertices of the picked vertex\n",
    "            # only if the current distance is greater than new distance and\n",
    "            # the vertex in not in the shortest path tree\n",
    "            for v in range(self.V):\n",
    "                # graph[u][v] is non zero only for adjacent vertices of m\n",
    "                # mstSet[v] is false for vertices not yet included in MST\n",
    "                # Update the key only if graph[u][v] is smaller than key[v]\n",
    "                if self.graph[u][v] > 0 and mstSet[v] == False and key[v] > self.graph[u][v]:\n",
    "                    key[v] = self.graph[u][v]\n",
    "                    parent[v] = u\n",
    " \n",
    "        res = self.createMST_matrix(parent)\n",
    "        return res"
   ]
  },
  {
   "cell_type": "code",
   "execution_count": 5,
   "metadata": {
    "collapsed": true
   },
   "outputs": [],
   "source": [
    "import numpy as np\n",
    "import numpy.random as rand\n",
    "\n",
    "class Crab(object):\n",
    "    def __init__(self, dist_matrix):\n",
    "        self.dist_matrix = dist_matrix\n",
    "        \n",
    "    def fit(self, data):\n",
    "        self.data = data\n",
    "        self.n_obj = len(data)\n",
    "       \n",
    "    def get_random_el(self, classes):\n",
    "        # Make sure that the point is not in class already \n",
    "        while(True):\n",
    "            index = rand.randint(0, len(classes))\n",
    "            if classes[index] == 0:\n",
    "                return index  \n",
    "    \n",
    "    def predict(self, n_clust):\n",
    "        # Firts stage: building MST\n",
    "        g = Graph(len(self.dist_matrix))\n",
    "        g.graph = self.dist_matrix\n",
    "        mst = g.primMST()\n",
    "        \n",
    "        # Second stage\n",
    "        # Find n_clust - 1 max edges\n",
    "        while(n_clust > 0):\n",
    "            # Find longest edge in MST and cut them off\n",
    "            i,j = np.unravel_index(mst.argmax(), mst.shape)\n",
    "            mst[i,j] = 0\n",
    "            mst[j,i] = 0\n",
    "            n_clust -= 1\n",
    "        \n",
    "        # Make dfs on MST\n",
    "        result = np.zeros(len(mst), dtype=np.int)\n",
    "        class_n = 1\n",
    "        while(not all(el > 0 for el in result)):\n",
    "            candid = list()\n",
    "            point = self.get_random_el(result)\n",
    "            candid.append(point)\n",
    "            result[point] = class_n            \n",
    "            while(len(candid) > 0):\n",
    "                # Get next point from stack and find \n",
    "                p = candid.pop()\n",
    "                for i in range(len(result)):\n",
    "                    if (result[i] == 0) and (mst[p,i] > 0) and (i not in candid):\n",
    "                        # Find all neighbour points that are not far than e from starting point\n",
    "                        # Append such point to stack\n",
    "                        candid.append(i)\n",
    "                        result[i] = class_n\n",
    "            # If all elements classified, move to next class\n",
    "            class_n += 1\n",
    "        return result"
   ]
  },
  {
   "cell_type": "code",
   "execution_count": 7,
   "metadata": {},
   "outputs": [
    {
     "data": {
      "image/png": "[encoded data removed]",
      "text/plain": [
       "<matplotlib.figure.Figure at 0x1cb6b948be0>"
      ]
     },
     "metadata": {},
     "output_type": "display_data"
    }
   ],
   "source": [
    "d_m = calculate_dist(X)\n",
    "crab = Crab(d_m)\n",
    "crab.fit(X)\n",
    "crab_pred = crab.predict(n_clust=5)\n",
    "plot_decisions(X, crab_pred, leg=True)"
   ]
  },
  {
   "cell_type": "markdown",
   "metadata": {},
   "source": [
    "# Spectre"
   ]
  },
  {
   "cell_type": "code",
   "execution_count": 8,
   "metadata": {
    "collapsed": true
   },
   "outputs": [],
   "source": [
    "import numpy as np\n",
    "import numpy.random as rand\n",
    "\n",
    "\n",
    "class Spectre(object):\n",
    "    def __init__(self, dist_matrix):\n",
    "        self.dist_matrix = dist_matrix\n",
    "        \n",
    "    def fit(self, data):\n",
    "        self.data = data\n",
    "        self.n_obj = len(data)\n",
    "        \n",
    "    def calc_con(self, x_index, elems_index):\n",
    "        m = len(elems_index)\n",
    "        buffer = 0\n",
    "        for i in elems_index:\n",
    "            buffer += self.dist_matrix[i,x_index]\n",
    "        return buffer/m\n",
    "    \n",
    "    def get_random_center(self, classes):\n",
    "        # Make sure that the point is not in class already \n",
    "        while(True):\n",
    "            index = rand.randint(0, self.n_obj)\n",
    "            if classes[index] == 0:\n",
    "                return index\n",
    "\n",
    "    def predict(self, e=1.0):\n",
    "        result = np.zeros(self.n_obj, dtype=np.int)\n",
    "        class_n = 1\n",
    "        while(not all(el > 0 for el in result)):\n",
    "            rand_i = self.get_random_center(result)\n",
    "            b = [rand_i]\n",
    "            while(True):\n",
    "                max_dist = -1000000\n",
    "                max_idx = 0\n",
    "                for el in range(self.n_obj):\n",
    "                    dist = self.calc_con(el, b)\n",
    "                    # Find minimal distance and assert that element is not in class and not in B\n",
    "                    if dist > max_dist and result[el] == 0: #and el not in b:\n",
    "                        max_dist = dist\n",
    "                        max_idx = el\n",
    "                # Break if next element is alrady in B or distance is over e\n",
    "                if max_idx in b or max_dist > e:\n",
    "                    result[b] = class_n\n",
    "                    class_n += 1\n",
    "                    break\n",
    "                else:\n",
    "                    b.append(max_idx)\n",
    "        return result"
   ]
  },
  {
   "cell_type": "code",
   "execution_count": 9,
   "metadata": {},
   "outputs": [
    {
     "data": {
      "image/png": "[encoded data removed]",
      "text/plain": [
       "<matplotlib.figure.Figure at 0x1cb6bab0eb8>"
      ]
     },
     "metadata": {},
     "output_type": "display_data"
    }
   ],
   "source": [
    "spectre = Spectre(d_m)\n",
    "spectre.fit(X)\n",
    "sp_pred = spectre.predict(e=0.5)\n",
    "plot_decisions(X, sp_pred, leg=False)"
   ]
  },
  {
   "cell_type": "markdown",
   "metadata": {},
   "source": [
    "# Prim's"
   ]
  },
  {
   "cell_type": "code",
   "execution_count": 10,
   "metadata": {
    "collapsed": true
   },
   "outputs": [],
   "source": [
    "class Prim():\n",
    "    def __init__(self, vertices):\n",
    "        self.V = vertices\n",
    "        # Create distance matrix for graph\n",
    "        self.graph = [[0 for column in range(vertices)] \n",
    "                      for row in range(vertices)]\n",
    "        self.maxint = 999999999\n",
    "    \n",
    "    def fit(self, data):\n",
    "        self.data = data\n",
    "        self.n_obj = len(data)\n",
    "        \n",
    "    # Create adjacency matrix for MST\n",
    "    def createMST_matrix(self, parent):\n",
    "        result = np.zeros((len(parent),len(parent)),dtype=np.float)\n",
    "        for i in range(len(parent)):\n",
    "            result[i,parent[i]] = self.graph[i,parent[i]]\n",
    "            result[parent[i],i] = self.graph[i,parent[i]]\n",
    "        return result\n",
    " \n",
    "    # A utility function to find the vertex with minimum distance value, from\n",
    "    # the set of vertices not yet included in shortest path tree\n",
    "    def minKey(self, key, mstSet):\n",
    "        # Initilaize min value\n",
    "        mn = self.maxint\n",
    "        for v in range(self.V):\n",
    "            if key[v] < mn and mstSet[v] == False:\n",
    "                mn = key[v]\n",
    "                min_index = v\n",
    "        return min_index\n",
    "     \n",
    "    def get_random_el(self, classes):\n",
    "        # Make sure that the point is not in class already \n",
    "        while(True):\n",
    "            index = rand.randint(0, len(classes))\n",
    "            if classes[index] == 0:\n",
    "                return index    \n",
    "    \n",
    "    # Function to construct MST for a graph using adjacency matrix representation\n",
    "    def predict(self, e=1.0):\n",
    "        #Key values used to pick minimum weight edge in cut\n",
    "        key = [self.maxint] * self.V\n",
    "        parent = [None] * self.V\n",
    "        key[0] = 0   # Make key 0 so that this vertex is picked as first vertex\n",
    "        mstSet = [False] * self.V\n",
    "        parent[0] = -1  # Mark first node as the root\n",
    " \n",
    "        for cout in range(self.V):\n",
    "            # Pick the minimum distance vertex from the set of vertices not\n",
    "            # yet processed. u is always equal to src in first iteration\n",
    "            u = self.minKey(key, mstSet)\n",
    "            # Put the minimum distance vertex in the shortest path tree\n",
    "            mstSet[u] = True\n",
    "            # Update dist value of the adjacent vertices of the picked vertex\n",
    "            # only if the current distance is greater than new distance and\n",
    "            # the vertex in not in the shortest path tree\n",
    "            for v in range(self.V):\n",
    "                # graph[u][v] is non zero only for adjacent vertices of m\n",
    "                # mstSet[v] is false for vertices not yet included in MST\n",
    "                # Update the key only if graph[u][v] is smaller than key[v]\n",
    "                if self.graph[u][v] > 0 and mstSet[v] == False and key[v] > self.graph[u][v]:\n",
    "                    key[v] = self.graph[u][v]\n",
    "                    parent[v] = u\n",
    "                    \n",
    "        \n",
    "        mst = self.createMST_matrix(parent)\n",
    "        result = np.zeros(len(mst), dtype=np.int)\n",
    "        class_n = 1\n",
    "        \n",
    "        # Find clusters by preparing dfs on minimal spanning tree\n",
    "        while(not all(el > 0 for el in result)):\n",
    "            candid = list()\n",
    "            point = self.get_random_el(result)\n",
    "            candid.append(point)\n",
    "            result[point] = class_n            \n",
    "            while(len(candid) > 0):\n",
    "                # Get next point from stack and find \n",
    "                p = candid.pop()\n",
    "                for i in range(len(result)):\n",
    "                    if (result[i] == 0) and (mst[p,i] <= e) and (mst[p,i] > 0) and (i not in candid):\n",
    "                        # Find all neighbour points that are not far than e from starting point\n",
    "                        # Append such point to stack\n",
    "                        candid.append(i)\n",
    "                        result[i] = class_n\n",
    "            # If all elements classified, move to next class\n",
    "            class_n += 1\n",
    "            \n",
    "        return result"
   ]
  },
  {
   "cell_type": "code",
   "execution_count": 12,
   "metadata": {},
   "outputs": [
    {
     "data": {
      "image/png": "[encoded data removed]",
      "text/plain": [
       "<matplotlib.figure.Figure at 0x1cb6bc55f98>"
      ]
     },
     "metadata": {},
     "output_type": "display_data"
    }
   ],
   "source": [
    "prim = Prim(len(d_m))\n",
    "prim.graph = d_m\n",
    "prim.fit(X)\n",
    "pr_pred = prim.predict(e=0.1)\n",
    "plot_decisions(X, pr_pred)"
   ]
  },
  {
   "cell_type": "markdown",
   "metadata": {
    "collapsed": true
   },
   "source": [
    "# FOREL"
   ]
  },
  {
   "cell_type": "code",
   "execution_count": 13,
   "metadata": {
    "collapsed": true
   },
   "outputs": [],
   "source": [
    "import numpy as np\n",
    "import numpy.random as rand\n",
    "\n",
    "\n",
    "class Forel(object):\n",
    "    def __init__(self, radius, e=0.01):\n",
    "        self.radius = radius\n",
    "        self.e = e\n",
    "        \n",
    "    def get_random_center(self, classes):\n",
    "        # Make sure that the point is not in class already \n",
    "        while(True):\n",
    "            index = rand.randint(0, self.n_obj)\n",
    "            if classes[index] == 0:\n",
    "                return self.data[index]\n",
    "    \n",
    "    def fit(self, data):\n",
    "        self.data = np.array(data)\n",
    "        self.n_obj = len(data)\n",
    "    \n",
    "    def change_radius(self, radius):\n",
    "        if radius > 0:\n",
    "            self.radius = radius\n",
    "        \n",
    "    def euclidean_dist_sq(self, point1, point2):\n",
    "        assert len(point1) == len(point2)\n",
    "        result = 0\n",
    "        for i in range(len(point1)):\n",
    "            result = result + (point1[i]-point2[i])**2\n",
    "        return result\n",
    "    \n",
    "    def find_mass_center(self, points):\n",
    "        return points.mean(0)\n",
    "    \n",
    "    def transform(self):\n",
    "        cls = np.zeros(self.n_obj, dtype=np.int)\n",
    "        class_n = 1\n",
    "        \n",
    "        # If all elements have classes, break\n",
    "        while(not all(el > 0 for el in cls)):\n",
    "            center = self.get_random_center(cls) \n",
    "            while(True):\n",
    "                class_indx = []\n",
    "                # Find point that fall into sphere\n",
    "                for i in range(0, self.n_obj):\n",
    "                    dist = self.euclidean_dist_sq(center, self.data[i])\n",
    "                    # Distance between center and point shuld be less than radius\n",
    "                    # Point shold not belong to any class\n",
    "                    if dist <= self.radius and cls[i] == 0:\n",
    "                        class_indx.append(i)\n",
    "                # Recalculate center\n",
    "                new_center = self.find_mass_center(self.data[class_indx])\n",
    "                # If center changed on less than e, append new class labels to the result matrix\n",
    "                if self.euclidean_dist_sq(center, new_center) < self.e:\n",
    "                    # Assign class names to elements\n",
    "                    cls[class_indx] = class_n\n",
    "                    class_n = class_n + 1\n",
    "                    break\n",
    "                else:\n",
    "                    center = new_center\n",
    "                    \n",
    "        # Array of elements\n",
    "        return cls"
   ]
  },
  {
   "cell_type": "code",
   "execution_count": 16,
   "metadata": {
    "scrolled": true
   },
   "outputs": [
    {
     "data": {
      "image/png": "[encoded data removed]",
      "text/plain": [
       "<matplotlib.figure.Figure at 0x1cb6bf4f780>"
      ]
     },
     "metadata": {},
     "output_type": "display_data"
    }
   ],
   "source": [
    "forel = Forel(radius=1)\n",
    "forel.fit(X)\n",
    "frl_pred = forel.transform()\n",
    "plot_decisions(X, frl_pred)"
   ]
  },
  {
   "cell_type": "markdown",
   "metadata": {},
   "source": [
    "# Metrics"
   ]
  },
  {
   "cell_type": "code",
   "execution_count": 17,
   "metadata": {
    "collapsed": true
   },
   "outputs": [],
   "source": [
    "import pandas as pd\n",
    "\n",
    "\n",
    "hap_df = pd.read_csv('happiness.csv')\n",
    "data_full = hap_df.as_matrix()\n",
    "data = data_full[:,3:]\n",
    "hap_eucl = calculate_dist(data, how='euclid')\n",
    "hap_mink = calculate_dist(data, how='minkowski')\n",
    "hap_cab = calculate_dist(data, how='taxicab')\n",
    "hap_cheb = calculate_dist(data, how='chebyshev')"
   ]
  },
  {
   "cell_type": "code",
   "execution_count": 18,
   "metadata": {},
   "outputs": [
    {
     "data": {
      "text/plain": [
       "array([[  0.00000000e+00,   1.44961119e-01,   2.01928467e-02, ...,\n",
       "          2.74702148e+01,   2.60974636e+01,   2.69581108e+01],\n",
       "       [  1.44961119e-01,   0.00000000e+00,   1.79593638e-01, ...,\n",
       "          2.79269104e+01,   2.59074097e+01,   2.69584064e+01],\n",
       "       [  2.01928467e-02,   1.79593638e-01,   0.00000000e+00, ...,\n",
       "          2.67130032e+01,   2.52817211e+01,   2.61724339e+01],\n",
       "       ..., \n",
       "       [  2.74702148e+01,   2.79269104e+01,   2.67130032e+01, ...,\n",
       "          0.00000000e+00,   3.03075266e+00,   2.21552062e+00],\n",
       "       [  2.60974636e+01,   2.59074097e+01,   2.52817211e+01, ...,\n",
       "          3.03075266e+00,   0.00000000e+00,   2.54044861e-01],\n",
       "       [  2.69581108e+01,   2.69584064e+01,   2.61724339e+01, ...,\n",
       "          2.21552062e+00,   2.54044861e-01,   0.00000000e+00]], dtype=float32)"
      ]
     },
     "execution_count": 18,
     "metadata": {},
     "output_type": "execute_result"
    }
   ],
   "source": [
    "hap_eucl"
   ]
  }
 ],
 "metadata": {
  "kernelspec": {
   "display_name": "Python 3",
   "language": "python",
   "name": "python3"
  },
  "language_info": {
   "codemirror_mode": {
    "name": "ipython",
    "version": 3
   },
   "file_extension": ".py",
   "mimetype": "text/x-python",
   "name": "python",
   "nbconvert_exporter": "python",
   "pygments_lexer": "ipython3",
   "version": "3.6.1"
  }
 },
 "nbformat": 4,
 "nbformat_minor": 2
}
